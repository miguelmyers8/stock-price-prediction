{
 "cells": [
  {
   "cell_type": "code",
   "execution_count": 124,
   "metadata": {
    "collapsed": false
   },
   "outputs": [],
   "source": [
    "''' \n",
    "-supervised learning python 2\n",
    "-netflix sotck data\n",
    "The features are the descriptive attributes\n",
    "and the label is what you're attempting to predict or forecast.\n",
    "As such, our features are actually: current price, \n",
    "high minus low percent, and the percent change volatility.\n",
    "'''\n",
    "import quandl, math\n",
    "import numpy as np\n",
    "import pandas as pd\n",
    "from sklearn import preprocessing, cross_validation, svm\n",
    "from sklearn.linear_model import LinearRegression\n",
    "import matplotlib.pyplot as plt\n",
    "from matplotlib import style\n",
    "import datetime, time\n",
    "\n",
    "#import matplotlib.pyplot as plt\n",
    "import quandl\n",
    "import pandas as pd\n",
    "csv_obj = quandl.get(\"WIKI/nflx\")\n",
    "#csv_obj = pd.read_csv('nflx.csv',  encoding='utf-8-sig')\n",
    "#csv_obj"
   ]
  },
  {
   "cell_type": "code",
   "execution_count": 135,
   "metadata": {
    "collapsed": false,
    "scrolled": true
   },
   "outputs": [],
   "source": [
    "#new col: HL_PCT high - low percent\n",
    "csv_obj[\"HL_PCT\"]= (csv_obj[\"Adj. High\"] - csv_obj[\"Adj. Close\"]) / csv_obj['Adj. Close'] * 100.0\n",
    "#new col: pct chane new - old / old * 100\n",
    "csv_obj[\"PCT_DALY_CHANGE\"]= (csv_obj[\"Adj. Close\"] - csv_obj[\"Adj. Open\"]) / csv_obj['Adj. Open'] * 100.0\n",
    "#csv_obj.plot(kind='scatter', x='Adj. High', y='Adj. Close', figsize=(12,8))\n",
    "#plt.show()\n",
    "\n"
   ]
  },
  {
   "cell_type": "code",
   "execution_count": 111,
   "metadata": {
    "collapsed": false
   },
   "outputs": [],
   "source": [
    " \n",
    "csv_obj = csv_obj[[\"Adj. Close\",\"HL_PCT\",\"PCT_DALY_CHANGE\", \"Volume\"]]\n",
    "#featurs\n",
    "#csv_obj.plot(kind='scatter', x='', y='', figsize=(12,8)) \n",
    "#plt.show()"
   ]
  },
  {
   "cell_type": "code",
   "execution_count": 112,
   "metadata": {
    "collapsed": false
   },
   "outputs": [],
   "source": [
    "#prediction_col\n",
    "forecast_col = 'Adj. Close'\n",
    "#replacing NAN data\n",
    "csv_obj.fillna(-99999, inplace=True)\n"
   ]
  },
  {
   "cell_type": "code",
   "execution_count": 113,
   "metadata": {
    "collapsed": false
   },
   "outputs": [
    {
     "data": {
      "text/plain": [
       "38"
      ]
     },
     "execution_count": 113,
     "metadata": {},
     "output_type": "execute_result"
    }
   ],
   "source": [
    "import math\n",
    "#We're saying we want to forecast out 1% of the entire length of the dataset. \n",
    "#using data to forecast 10 days into the future\n",
    "forecast_out = int(math.ceil(0.01*len(csv_obj)))#math.celi rounds up to the nearest whole\n",
    "forecast_out"
   ]
  },
  {
   "cell_type": "code",
   "execution_count": 114,
   "metadata": {
    "collapsed": false
   },
   "outputs": [],
   "source": [
    "csv_obj['label'] = csv_obj[forecast_col].shift(-forecast_out)\n"
   ]
  },
  {
   "cell_type": "code",
   "execution_count": 115,
   "metadata": {
    "collapsed": false
   },
   "outputs": [],
   "source": [
    "import numpy as np\n",
    "\n",
    "from sklearn import preprocessing, cross_validation, svm\n",
    "from sklearn.linear_model import LinearRegression"
   ]
  },
  {
   "cell_type": "code",
   "execution_count": 116,
   "metadata": {
    "collapsed": false
   },
   "outputs": [],
   "source": [
    "X = np.array(csv_obj.drop(['label'],1))\n",
    "\n",
    "X = preprocessing.scale(X)\n",
    "\n",
    "X_lately = X[-forecast_out:]\n",
    "\n",
    "X = X[:-forecast_out:]\n",
    "\n",
    "\n",
    "\n",
    "\n",
    "csv_obj.dropna(inplace=True)\n"
   ]
  },
  {
   "cell_type": "code",
   "execution_count": 117,
   "metadata": {
    "collapsed": false
   },
   "outputs": [],
   "source": [
    "#featurs\n",
    "#X = np.array(csv_obj.drop(['label'], 1))\n",
    "y = np.array(csv_obj['label'])\n"
   ]
  },
  {
   "cell_type": "code",
   "execution_count": 118,
   "metadata": {
    "collapsed": false
   },
   "outputs": [],
   "source": [
    "#X = preprocessing.scale(X)\n",
    "#y = np.array(csv_obj['label'])\n",
    "X_train, X_test, y_train, y_test = cross_validation.train_test_split(X, y, test_size=0.2)"
   ]
  },
  {
   "cell_type": "code",
   "execution_count": 138,
   "metadata": {
    "collapsed": false
   },
   "outputs": [
    {
     "data": {
      "text/plain": [
       "LinearRegression(copy_X=True, fit_intercept=True, n_jobs=-1, normalize=False)"
      ]
     },
     "execution_count": 138,
     "metadata": {},
     "output_type": "execute_result"
    }
   ],
   "source": [
    "clf = LinearRegression(n_jobs=-1)\n",
    "clf.fit(X_train, y_train)"
   ]
  },
  {
   "cell_type": "code",
   "execution_count": 120,
   "metadata": {
    "collapsed": false
   },
   "outputs": [
    {
     "data": {
      "text/plain": [
       "0.96134856338528718"
      ]
     },
     "execution_count": 120,
     "metadata": {},
     "output_type": "execute_result"
    }
   ],
   "source": [
    "confidence = clf.score(X_test, y_test)\n",
    "confidence"
   ]
  },
  {
   "cell_type": "code",
   "execution_count": 140,
   "metadata": {
    "collapsed": false
   },
   "outputs": [
    {
     "name": "stdout",
     "output_type": "stream",
     "text": [
      "(array([ 129.36743752,  131.38307582,  131.21976843,  132.10715733,\n",
      "        131.65180782,  132.14855742,  134.34443352,  131.92585907,\n",
      "        131.53565776,  129.73059623,  132.50219575,  134.866767  ,\n",
      "        136.98498067,  135.9504214 ,  136.90133121,  135.76071327,\n",
      "        136.47089722,  135.13199262,  138.75348316,  137.62290086,\n",
      "        137.92307221,  140.76956926,  144.11042492,  143.3242975 ,\n",
      "        146.10436751,  145.56083681,  145.25276703,  148.43313252,\n",
      "        147.13686997,  147.4729128 ,  147.18054042,  146.09247639,\n",
      "        147.18996268,  147.92814742,  149.9790348 ,  151.11452662,\n",
      "        150.99655476,  151.49501526]), 0.96134856338528718, 38)\n"
     ]
    },
    {
     "data": {
      "image/png": "[encoded data removed]",
      "text/plain": [
       "<matplotlib.figure.Figure at 0x11bb794d0>"
      ]
     },
     "metadata": {},
     "output_type": "display_data"
    },
    {
     "data": {
      "image/png": "[encoded data removed]",
      "text/plain": [
       "<matplotlib.figure.Figure at 0x11c375fd0>"
      ]
     },
     "metadata": {},
     "output_type": "display_data"
    }
   ],
   "source": [
    "\n",
    "\n",
    "forecast_set = clf.predict(X_lately)\n",
    "csv_obj['Forecast'] = np.nan\n",
    "\n",
    "print(forecast_set, confidence, forecast_out)\n",
    "\n",
    "\n",
    "last_date = csv_obj.iloc[-1].name\n",
    "last_unix = time.mktime(last_date.timetuple())\n",
    "one_day = 86400\n",
    "next_unix = last_unix + one_day\n",
    "\n",
    "for i in forecast_set:\n",
    "    next_date = datetime.datetime.fromtimestamp(next_unix)\n",
    "    next_unix += 86400\n",
    "    csv_obj.loc[next_date] = [np.nan for _ in range(len(csv_obj.columns)-1)]+[i]\n",
    "    \n",
    "csv_obj['Adj. Close'].plot()\n",
    "csv_obj['Forecast'].plot()\n",
    "plt.legend(loc=4)\n",
    "plt.xlabel('Date')\n",
    "plt.ylabel('Price')\n",
    "plt.show()\n",
    "#plt.subplots(figsize=(12,8))  \n",
    "#plt.plot(kind='scatter', x='Date', y='Price', figsize=(12,8))\n",
    "#plt.show()"
   ]
  },
  {
   "cell_type": "code",
   "execution_count": null,
   "metadata": {
    "collapsed": true
   },
   "outputs": [],
   "source": []
  },
  {
   "cell_type": "code",
   "execution_count": null,
   "metadata": {
    "collapsed": true
   },
   "outputs": [],
   "source": []
  },
  {
   "cell_type": "code",
   "execution_count": null,
   "metadata": {
    "collapsed": true
   },
   "outputs": [],
   "source": []
  },
  {
   "cell_type": "code",
   "execution_count": null,
   "metadata": {
    "collapsed": true
   },
   "outputs": [],
   "source": []
  },
  {
   "cell_type": "code",
   "execution_count": null,
   "metadata": {
    "collapsed": true
   },
   "outputs": [],
   "source": []
  }
 ],
 "metadata": {
  "anaconda-cloud": {},
  "kernelspec": {
   "display_name": "Python [conda env:python2]",
   "language": "python",
   "name": "conda-env-python2-py"
  },
  "language_info": {
   "codemirror_mode": {
    "name": "ipython",
    "version": 2
   },
   "file_extension": ".py",
   "mimetype": "text/x-python",
   "name": "python",
   "nbconvert_exporter": "python",
   "pygments_lexer": "ipython2",
   "version": "2.7.12"
  }
 },
 "nbformat": 4,
 "nbformat_minor": 1
}
