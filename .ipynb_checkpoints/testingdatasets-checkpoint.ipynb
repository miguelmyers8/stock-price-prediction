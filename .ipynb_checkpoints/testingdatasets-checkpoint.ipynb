{
 "cells": [
  {
   "cell_type": "code",
   "execution_count": 2,
   "metadata": {
    "collapsed": false
   },
   "outputs": [],
   "source": [
    "''' \n",
    "-supervised learning python 2\n",
    "-netflix sotck data\n",
    "The features are the descriptive attributes\n",
    "and the label is what you're attempting to predict or forecast.\n",
    "As such, our features are actually: current price, \n",
    "high minus low percent, and the percent change volatility.\n",
    "'''\n",
    "import quandl, math\n",
    "import numpy as np\n",
    "import pandas as pd\n",
    "from sklearn import preprocessing, cross_validation, svm\n",
    "from sklearn.linear_model import LinearRegression\n",
    "import matplotlib.pyplot as plt\n",
    "from matplotlib import style\n",
    "import datetime, time\n",
    "\n",
    "#import matplotlib.pyplot as plt\n",
    "import quandl\n",
    "import pandas as pd\n",
    "csv_obj = quandl.get(\"WIKI/nflx\")\n",
    "#csv_obj = pd.read_csv('nflx.csv',  encoding='utf-8-sig')\n",
    "#csv_obj"
   ]
  },
  {
   "cell_type": "code",
   "execution_count": 3,
   "metadata": {
    "collapsed": false,
    "scrolled": true
   },
   "outputs": [],
   "source": [
    "#new col: HL_PCT high - low percent\n",
    "csv_obj[\"HL_PCT\"]= (csv_obj[\"Adj. High\"] - csv_obj[\"Adj. Close\"]) / csv_obj['Adj. Close'] * 100.0\n",
    "#new col: pct chane new - old / old * 100\n",
    "csv_obj[\"PCT_DALY_CHANGE\"]= (csv_obj[\"Adj. Close\"] - csv_obj[\"Adj. Open\"]) / csv_obj['Adj. Open'] * 100.0\n",
    "#csv_obj.plot(kind='scatter', x='Adj. High', y='Adj. Close', figsize=(12,8))\n",
    "#plt.show()\n",
    "\n"
   ]
  },
  {
   "cell_type": "code",
   "execution_count": 4,
   "metadata": {
    "collapsed": false
   },
   "outputs": [],
   "source": [
    " \n",
    "csv_obj = csv_obj[[\"Adj. Close\",\"HL_PCT\",\"PCT_DALY_CHANGE\", \"Volume\"]]\n",
    "#featurs\n",
    "#csv_obj.plot(kind='scatter', x='', y='', figsize=(12,8)) \n",
    "#plt.show()"
   ]
  },
  {
   "cell_type": "code",
   "execution_count": 5,
   "metadata": {
    "collapsed": false
   },
   "outputs": [],
   "source": [
    "#prediction_col\n",
    "forecast_col = 'Adj. Close'\n",
    "#replacing NAN data\n",
    "csv_obj.fillna(-99999, inplace=True)\n"
   ]
  },
  {
   "cell_type": "code",
   "execution_count": 6,
   "metadata": {
    "collapsed": false
   },
   "outputs": [
    {
     "data": {
      "text/plain": [
       "38"
      ]
     },
     "execution_count": 6,
     "metadata": {},
     "output_type": "execute_result"
    }
   ],
   "source": [
    "import math\n",
    "#We're saying we want to forecast out 1% of the entire length of the dataset. \n",
    "#using data to forecast 10 days into the future\n",
    "forecast_out = int(math.ceil(0.01*len(csv_obj)))#math.celi rounds up to the nearest whole\n",
    "forecast_out"
   ]
  },
  {
   "cell_type": "code",
   "execution_count": 7,
   "metadata": {
    "collapsed": false
   },
   "outputs": [],
   "source": [
    "csv_obj['label'] = csv_obj[forecast_col].shift(-forecast_out)\n"
   ]
  },
  {
   "cell_type": "code",
   "execution_count": 8,
   "metadata": {
    "collapsed": false
   },
   "outputs": [],
   "source": [
    "import numpy as np\n",
    "\n",
    "from sklearn import preprocessing, cross_validation, svm\n",
    "from sklearn.linear_model import LinearRegression"
   ]
  },
  {
   "cell_type": "code",
   "execution_count": 9,
   "metadata": {
    "collapsed": false
   },
   "outputs": [
    {
     "name": "stderr",
     "output_type": "stream",
     "text": [
      "/Users/miguel/anaconda/envs/python2/lib/python2.7/site-packages/sklearn/preprocessing/data.py:167: UserWarning: Numerical issues were encountered when centering the data and might not be solved. Dataset may contain too large values. You may need to prescale your features.\n",
      "  warnings.warn(\"Numerical issues were encountered \"\n"
     ]
    }
   ],
   "source": [
    "X = np.array(csv_obj.drop(['label'],1))\n",
    "\n",
    "X = preprocessing.scale(X)\n",
    "\n",
    "X_lately = X[-forecast_out:]\n",
    "\n",
    "X = X[:-forecast_out:]\n",
    "\n",
    "\n",
    "\n",
    "\n",
    "csv_obj.dropna(inplace=True)\n"
   ]
  },
  {
   "cell_type": "code",
   "execution_count": 10,
   "metadata": {
    "collapsed": false
   },
   "outputs": [],
   "source": [
    "#featurs\n",
    "#X = np.array(csv_obj.drop(['label'], 1))\n",
    "y = np.array(csv_obj['label'])\n"
   ]
  },
  {
   "cell_type": "code",
   "execution_count": 11,
   "metadata": {
    "collapsed": false
   },
   "outputs": [],
   "source": [
    "#X = preprocessing.scale(X)\n",
    "#y = np.array(csv_obj['label'])\n",
    "X_train, X_test, y_train, y_test = cross_validation.train_test_split(X, y, test_size=0.2)"
   ]
  },
  {
   "cell_type": "code",
   "execution_count": 12,
   "metadata": {
    "collapsed": false
   },
   "outputs": [
    {
     "data": {
      "text/plain": [
       "LinearRegression(copy_X=True, fit_intercept=True, n_jobs=-1, normalize=False)"
      ]
     },
     "execution_count": 12,
     "metadata": {},
     "output_type": "execute_result"
    }
   ],
   "source": [
    "clf = LinearRegression(n_jobs=-1)\n",
    "clf.fit(X_train, y_train)"
   ]
  },
  {
   "cell_type": "code",
   "execution_count": 13,
   "metadata": {
    "collapsed": false
   },
   "outputs": [
    {
     "data": {
      "text/plain": [
       "0.96124898181351937"
      ]
     },
     "execution_count": 13,
     "metadata": {},
     "output_type": "execute_result"
    }
   ],
   "source": [
    "confidence = clf.score(X_test, y_test)\n",
    "confidence"
   ]
  },
  {
   "cell_type": "code",
   "execution_count": 14,
   "metadata": {
    "collapsed": false
   },
   "outputs": [
    {
     "name": "stdout",
     "output_type": "stream",
     "text": [
      "(array([ 135.91563157,  136.77583739,  135.6755534 ,  136.34370738,\n",
      "        135.02186974,  138.64769039,  137.5788207 ,  137.82346515,\n",
      "        140.87799919,  144.03885577,  143.23327922,  145.9877732 ,\n",
      "        145.46019124,  145.15424138,  148.29946712,  147.01046456,\n",
      "        147.33243474,  147.06502443,  145.96205296,  147.02370224,\n",
      "        147.75198279,  149.85174319,  150.97051835,  150.84607312,\n",
      "        151.34122962,  149.89378433,  146.62346624,  148.74659967,\n",
      "        148.98223338,  148.84988595,  149.48255001,  150.79508598,\n",
      "        149.42496548,  150.21596718,  150.2292306 ,  148.91514622,\n",
      "        149.3679596 ,  145.75717808]), 0.96124898181351937, 38)\n"
     ]
    },
    {
     "data": {
      "image/png": "[encoded data removed]",
      "text/plain": [
       "<matplotlib.figure.Figure at 0x117606d10>"
      ]
     },
     "metadata": {},
     "output_type": "display_data"
    }
   ],
   "source": [
    "\n",
    "\n",
    "forecast_set = clf.predict(X_lately)\n",
    "csv_obj['Forecast'] = np.nan\n",
    "\n",
    "print(forecast_set, confidence, forecast_out)\n",
    "\n",
    "\n",
    "last_date = csv_obj.iloc[-1].name\n",
    "last_unix = time.mktime(last_date.timetuple())\n",
    "one_day = 86400\n",
    "next_unix = last_unix + one_day\n",
    "\n",
    "for i in forecast_set:\n",
    "    next_date = datetime.datetime.fromtimestamp(next_unix)\n",
    "    next_unix += 86400\n",
    "    csv_obj.loc[next_date] = [np.nan for _ in range(len(csv_obj.columns)-1)]+[i]\n",
    "    \n",
    "csv_obj['Adj. Close'].plot()\n",
    "csv_obj['Forecast'].plot()\n",
    "plt.legend(loc=4)\n",
    "plt.xlabel('Date')\n",
    "plt.ylabel('Price')\n",
    "plt.show()\n",
    "#plt.subplots(figsize=(12,8))  \n",
    "#plt.plot(kind='scatter', x='Date', y='Price', figsize=(12,8))\n",
    "#plt.show()"
   ]
  },
  {
   "cell_type": "code",
   "execution_count": null,
   "metadata": {
    "collapsed": true
   },
   "outputs": [],
   "source": []
  },
  {
   "cell_type": "code",
   "execution_count": null,
   "metadata": {
    "collapsed": true
   },
   "outputs": [],
   "source": []
  },
  {
   "cell_type": "code",
   "execution_count": null,
   "metadata": {
    "collapsed": true
   },
   "outputs": [],
   "source": []
  },
  {
   "cell_type": "code",
   "execution_count": null,
   "metadata": {
    "collapsed": true
   },
   "outputs": [],
   "source": []
  },
  {
   "cell_type": "code",
   "execution_count": null,
   "metadata": {
    "collapsed": true
   },
   "outputs": [],
   "source": []
  }
 ],
 "metadata": {
  "anaconda-cloud": {},
  "kernelspec": {
   "display_name": "Python [conda env:python2]",
   "language": "python",
   "name": "conda-env-python2-py"
  },
  "language_info": {
   "codemirror_mode": {
    "name": "ipython",
    "version": 2
   },
   "file_extension": ".py",
   "mimetype": "text/x-python",
   "name": "python",
   "nbconvert_exporter": "python",
   "pygments_lexer": "ipython2",
   "version": "2.7.12"
  }
 },
 "nbformat": 4,
 "nbformat_minor": 1
}
